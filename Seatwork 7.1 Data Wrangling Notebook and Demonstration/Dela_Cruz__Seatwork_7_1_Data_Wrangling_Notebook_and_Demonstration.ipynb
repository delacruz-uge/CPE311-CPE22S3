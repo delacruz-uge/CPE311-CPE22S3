{
  "nbformat": 4,
  "nbformat_minor": 0,
  "metadata": {
    "colab": {
      "provenance": []
    },
    "kernelspec": {
      "name": "python3",
      "display_name": "Python 3"
    },
    "language_info": {
      "name": "python"
    }
  },
  "cells": [
    {
      "cell_type": "code",
      "execution_count": 121,
      "metadata": {
        "id": "JsSTIGNZIxnS"
      },
      "outputs": [],
      "source": [
        "import requests\n",
        "\n",
        "def make_request(endpoint, payload=None):\n",
        "  return requests.get(\n",
        "      f'https://www.ncdc.noaa.gov/cdo-web/api/v2/{endpoint}',\n",
        "      headers={'token': 'WBKsJKcmUpXqKqMAoGBZuuFwgqCWaktf'},\n",
        "      params= payload\n",
        "    )"
      ]
    },
    {
      "cell_type": "code",
      "source": [
        "response = make_request('datasets', {'startdate':'2024-01-01'})\n",
        "response.status_code"
      ],
      "metadata": {
        "colab": {
          "base_uri": "https://localhost:8080/",
          "height": 0
        },
        "id": "k24viXfgLxBR",
        "outputId": "a6bbe02c-a176-452c-a8ff-18466fc8ce14"
      },
      "execution_count": 149,
      "outputs": [
        {
          "output_type": "execute_result",
          "data": {
            "text/plain": [
              "200"
            ]
          },
          "metadata": {},
          "execution_count": 149
        }
      ]
    },
    {
      "cell_type": "code",
      "source": [
        "response.json().keys()\n"
      ],
      "metadata": {
        "colab": {
          "base_uri": "https://localhost:8080/",
          "height": 0
        },
        "id": "wuYAr7OcMcBy",
        "outputId": "1c5efbf6-4a58-42df-92ac-6523ce139e4d"
      },
      "execution_count": 123,
      "outputs": [
        {
          "output_type": "execute_result",
          "data": {
            "text/plain": [
              "dict_keys(['metadata', 'results'])"
            ]
          },
          "metadata": {},
          "execution_count": 123
        }
      ]
    },
    {
      "cell_type": "code",
      "source": [
        "response.json()['metadata']"
      ],
      "metadata": {
        "colab": {
          "base_uri": "https://localhost:8080/",
          "height": 0
        },
        "id": "s3ns0Mp5Mu8Y",
        "outputId": "4470911f-13be-49d0-ea08-37c5cfc78372"
      },
      "execution_count": 124,
      "outputs": [
        {
          "output_type": "execute_result",
          "data": {
            "text/plain": [
              "{'resultset': {'offset': 1, 'count': 11, 'limit': 25}}"
            ]
          },
          "metadata": {},
          "execution_count": 124
        }
      ]
    },
    {
      "cell_type": "code",
      "source": [
        "response.json()['results']\n"
      ],
      "metadata": {
        "colab": {
          "base_uri": "https://localhost:8080/",
          "height": 0
        },
        "id": "7K0f006SM0UQ",
        "outputId": "5a501a9d-ee61-4bb4-d17b-f81ee15e3116"
      },
      "execution_count": 148,
      "outputs": [
        {
          "output_type": "execute_result",
          "data": {
            "text/plain": [
              "[{'date': '2018-10-01T00:00:00',\n",
              "  'datatype': 'TAVG',\n",
              "  'station': 'GHCND:USW00014732',\n",
              "  'attributes': 'H,,S,',\n",
              "  'value': 21.2},\n",
              " {'date': '2018-10-01T00:00:00',\n",
              "  'datatype': 'TMAX',\n",
              "  'station': 'GHCND:USW00014732',\n",
              "  'attributes': ',,W,2400',\n",
              "  'value': 25.6},\n",
              " {'date': '2018-10-01T00:00:00',\n",
              "  'datatype': 'TMIN',\n",
              "  'station': 'GHCND:USW00014732',\n",
              "  'attributes': ',,W,2400',\n",
              "  'value': 18.3},\n",
              " {'date': '2018-10-02T00:00:00',\n",
              "  'datatype': 'TAVG',\n",
              "  'station': 'GHCND:USW00014732',\n",
              "  'attributes': 'H,,S,',\n",
              "  'value': 22.7},\n",
              " {'date': '2018-10-02T00:00:00',\n",
              "  'datatype': 'TMAX',\n",
              "  'station': 'GHCND:USW00014732',\n",
              "  'attributes': ',,W,2400',\n",
              "  'value': 26.1},\n",
              " {'date': '2018-10-02T00:00:00',\n",
              "  'datatype': 'TMIN',\n",
              "  'station': 'GHCND:USW00014732',\n",
              "  'attributes': ',,W,2400',\n",
              "  'value': 19.4},\n",
              " {'date': '2018-10-03T00:00:00',\n",
              "  'datatype': 'TAVG',\n",
              "  'station': 'GHCND:USW00014732',\n",
              "  'attributes': 'H,,S,',\n",
              "  'value': 21.8},\n",
              " {'date': '2018-10-03T00:00:00',\n",
              "  'datatype': 'TMAX',\n",
              "  'station': 'GHCND:USW00014732',\n",
              "  'attributes': ',,W,2400',\n",
              "  'value': 25.0},\n",
              " {'date': '2018-10-03T00:00:00',\n",
              "  'datatype': 'TMIN',\n",
              "  'station': 'GHCND:USW00014732',\n",
              "  'attributes': ',,W,2400',\n",
              "  'value': 18.9},\n",
              " {'date': '2018-10-04T00:00:00',\n",
              "  'datatype': 'TAVG',\n",
              "  'station': 'GHCND:USW00014732',\n",
              "  'attributes': 'H,,S,',\n",
              "  'value': 21.3},\n",
              " {'date': '2018-10-04T00:00:00',\n",
              "  'datatype': 'TMAX',\n",
              "  'station': 'GHCND:USW00014732',\n",
              "  'attributes': ',,W,2400',\n",
              "  'value': 26.1},\n",
              " {'date': '2018-10-04T00:00:00',\n",
              "  'datatype': 'TMIN',\n",
              "  'station': 'GHCND:USW00014732',\n",
              "  'attributes': ',,W,2400',\n",
              "  'value': 17.8},\n",
              " {'date': '2018-10-05T00:00:00',\n",
              "  'datatype': 'TAVG',\n",
              "  'station': 'GHCND:USW00014732',\n",
              "  'attributes': 'H,,S,',\n",
              "  'value': 20.3},\n",
              " {'date': '2018-10-05T00:00:00',\n",
              "  'datatype': 'TMAX',\n",
              "  'station': 'GHCND:USW00014732',\n",
              "  'attributes': ',,W,2400',\n",
              "  'value': 22.8},\n",
              " {'date': '2018-10-05T00:00:00',\n",
              "  'datatype': 'TMIN',\n",
              "  'station': 'GHCND:USW00014732',\n",
              "  'attributes': ',,W,2400',\n",
              "  'value': 16.1},\n",
              " {'date': '2018-10-06T00:00:00',\n",
              "  'datatype': 'TAVG',\n",
              "  'station': 'GHCND:USW00014732',\n",
              "  'attributes': 'H,,S,',\n",
              "  'value': 18.7},\n",
              " {'date': '2018-10-06T00:00:00',\n",
              "  'datatype': 'TMAX',\n",
              "  'station': 'GHCND:USW00014732',\n",
              "  'attributes': ',,W,2400',\n",
              "  'value': 21.1},\n",
              " {'date': '2018-10-06T00:00:00',\n",
              "  'datatype': 'TMIN',\n",
              "  'station': 'GHCND:USW00014732',\n",
              "  'attributes': ',,W,2400',\n",
              "  'value': 17.8},\n",
              " {'date': '2018-10-07T00:00:00',\n",
              "  'datatype': 'TAVG',\n",
              "  'station': 'GHCND:USW00014732',\n",
              "  'attributes': 'H,,S,',\n",
              "  'value': 22.8},\n",
              " {'date': '2018-10-07T00:00:00',\n",
              "  'datatype': 'TMAX',\n",
              "  'station': 'GHCND:USW00014732',\n",
              "  'attributes': ',,W,2400',\n",
              "  'value': 27.8},\n",
              " {'date': '2018-10-07T00:00:00',\n",
              "  'datatype': 'TMIN',\n",
              "  'station': 'GHCND:USW00014732',\n",
              "  'attributes': ',,W,2400',\n",
              "  'value': 21.1},\n",
              " {'date': '2018-10-08T00:00:00',\n",
              "  'datatype': 'TAVG',\n",
              "  'station': 'GHCND:USW00014732',\n",
              "  'attributes': 'H,,S,',\n",
              "  'value': 20.9},\n",
              " {'date': '2018-10-08T00:00:00',\n",
              "  'datatype': 'TMAX',\n",
              "  'station': 'GHCND:USW00014732',\n",
              "  'attributes': ',,W,2400',\n",
              "  'value': 22.8},\n",
              " {'date': '2018-10-08T00:00:00',\n",
              "  'datatype': 'TMIN',\n",
              "  'station': 'GHCND:USW00014732',\n",
              "  'attributes': ',,W,2400',\n",
              "  'value': 18.3},\n",
              " {'date': '2018-10-09T00:00:00',\n",
              "  'datatype': 'TAVG',\n",
              "  'station': 'GHCND:USW00014732',\n",
              "  'attributes': 'H,,S,',\n",
              "  'value': 21.8},\n",
              " {'date': '2018-10-09T00:00:00',\n",
              "  'datatype': 'TMAX',\n",
              "  'station': 'GHCND:USW00014732',\n",
              "  'attributes': ',,W,2400',\n",
              "  'value': 25.6},\n",
              " {'date': '2018-10-09T00:00:00',\n",
              "  'datatype': 'TMIN',\n",
              "  'station': 'GHCND:USW00014732',\n",
              "  'attributes': ',,W,2400',\n",
              "  'value': 19.4},\n",
              " {'date': '2018-10-10T00:00:00',\n",
              "  'datatype': 'TAVG',\n",
              "  'station': 'GHCND:USW00014732',\n",
              "  'attributes': 'H,,S,',\n",
              "  'value': 23.8},\n",
              " {'date': '2018-10-10T00:00:00',\n",
              "  'datatype': 'TMAX',\n",
              "  'station': 'GHCND:USW00014732',\n",
              "  'attributes': ',,W,2400',\n",
              "  'value': 27.8},\n",
              " {'date': '2018-10-10T00:00:00',\n",
              "  'datatype': 'TMIN',\n",
              "  'station': 'GHCND:USW00014732',\n",
              "  'attributes': ',,W,2400',\n",
              "  'value': 21.7},\n",
              " {'date': '2018-10-11T00:00:00',\n",
              "  'datatype': 'TAVG',\n",
              "  'station': 'GHCND:USW00014732',\n",
              "  'attributes': 'H,,S,',\n",
              "  'value': 23.4},\n",
              " {'date': '2018-10-11T00:00:00',\n",
              "  'datatype': 'TMAX',\n",
              "  'station': 'GHCND:USW00014732',\n",
              "  'attributes': ',,W,2400',\n",
              "  'value': 26.7},\n",
              " {'date': '2018-10-11T00:00:00',\n",
              "  'datatype': 'TMIN',\n",
              "  'station': 'GHCND:USW00014732',\n",
              "  'attributes': ',,W,2400',\n",
              "  'value': 21.7},\n",
              " {'date': '2018-10-12T00:00:00',\n",
              "  'datatype': 'TAVG',\n",
              "  'station': 'GHCND:USW00014732',\n",
              "  'attributes': 'H,,S,',\n",
              "  'value': 18.3},\n",
              " {'date': '2018-10-12T00:00:00',\n",
              "  'datatype': 'TMAX',\n",
              "  'station': 'GHCND:USW00014732',\n",
              "  'attributes': ',,W,2400',\n",
              "  'value': 22.2},\n",
              " {'date': '2018-10-12T00:00:00',\n",
              "  'datatype': 'TMIN',\n",
              "  'station': 'GHCND:USW00014732',\n",
              "  'attributes': ',,W,2400',\n",
              "  'value': 12.2},\n",
              " {'date': '2018-10-13T00:00:00',\n",
              "  'datatype': 'TAVG',\n",
              "  'station': 'GHCND:USW00014732',\n",
              "  'attributes': 'H,,S,',\n",
              "  'value': 12.2},\n",
              " {'date': '2018-10-13T00:00:00',\n",
              "  'datatype': 'TMAX',\n",
              "  'station': 'GHCND:USW00014732',\n",
              "  'attributes': ',,W,2400',\n",
              "  'value': 15.0},\n",
              " {'date': '2018-10-13T00:00:00',\n",
              "  'datatype': 'TMIN',\n",
              "  'station': 'GHCND:USW00014732',\n",
              "  'attributes': ',,W,2400',\n",
              "  'value': 9.4},\n",
              " {'date': '2018-10-14T00:00:00',\n",
              "  'datatype': 'TAVG',\n",
              "  'station': 'GHCND:USW00014732',\n",
              "  'attributes': 'H,,S,',\n",
              "  'value': 12.9},\n",
              " {'date': '2018-10-14T00:00:00',\n",
              "  'datatype': 'TMAX',\n",
              "  'station': 'GHCND:USW00014732',\n",
              "  'attributes': ',,W,2400',\n",
              "  'value': 15.6},\n",
              " {'date': '2018-10-14T00:00:00',\n",
              "  'datatype': 'TMIN',\n",
              "  'station': 'GHCND:USW00014732',\n",
              "  'attributes': ',,W,2400',\n",
              "  'value': 10.6},\n",
              " {'date': '2018-10-15T00:00:00',\n",
              "  'datatype': 'TAVG',\n",
              "  'station': 'GHCND:USW00014732',\n",
              "  'attributes': 'H,,S,',\n",
              "  'value': 15.8},\n",
              " {'date': '2018-10-15T00:00:00',\n",
              "  'datatype': 'TMAX',\n",
              "  'station': 'GHCND:USW00014732',\n",
              "  'attributes': ',,W,2400',\n",
              "  'value': 21.1},\n",
              " {'date': '2018-10-15T00:00:00',\n",
              "  'datatype': 'TMIN',\n",
              "  'station': 'GHCND:USW00014732',\n",
              "  'attributes': ',,W,2400',\n",
              "  'value': 12.8},\n",
              " {'date': '2018-10-16T00:00:00',\n",
              "  'datatype': 'TAVG',\n",
              "  'station': 'GHCND:USW00014732',\n",
              "  'attributes': 'H,,S,',\n",
              "  'value': 14.3},\n",
              " {'date': '2018-10-16T00:00:00',\n",
              "  'datatype': 'TMAX',\n",
              "  'station': 'GHCND:USW00014732',\n",
              "  'attributes': ',,W,2400',\n",
              "  'value': 16.7},\n",
              " {'date': '2018-10-16T00:00:00',\n",
              "  'datatype': 'TMIN',\n",
              "  'station': 'GHCND:USW00014732',\n",
              "  'attributes': ',,W,2400',\n",
              "  'value': 9.4},\n",
              " {'date': '2018-10-17T00:00:00',\n",
              "  'datatype': 'TAVG',\n",
              "  'station': 'GHCND:USW00014732',\n",
              "  'attributes': 'H,,S,',\n",
              "  'value': 13.2},\n",
              " {'date': '2018-10-17T00:00:00',\n",
              "  'datatype': 'TMAX',\n",
              "  'station': 'GHCND:USW00014732',\n",
              "  'attributes': ',,W,2400',\n",
              "  'value': 17.8},\n",
              " {'date': '2018-10-17T00:00:00',\n",
              "  'datatype': 'TMIN',\n",
              "  'station': 'GHCND:USW00014732',\n",
              "  'attributes': ',,W,2400',\n",
              "  'value': 8.9},\n",
              " {'date': '2018-10-18T00:00:00',\n",
              "  'datatype': 'TAVG',\n",
              "  'station': 'GHCND:USW00014732',\n",
              "  'attributes': 'H,,S,',\n",
              "  'value': 9.6},\n",
              " {'date': '2018-10-18T00:00:00',\n",
              "  'datatype': 'TMAX',\n",
              "  'station': 'GHCND:USW00014732',\n",
              "  'attributes': ',,W,2400',\n",
              "  'value': 11.7},\n",
              " {'date': '2018-10-18T00:00:00',\n",
              "  'datatype': 'TMIN',\n",
              "  'station': 'GHCND:USW00014732',\n",
              "  'attributes': ',,W,2400',\n",
              "  'value': 6.7},\n",
              " {'date': '2018-10-19T00:00:00',\n",
              "  'datatype': 'TAVG',\n",
              "  'station': 'GHCND:USW00014732',\n",
              "  'attributes': 'H,,S,',\n",
              "  'value': 11.3},\n",
              " {'date': '2018-10-19T00:00:00',\n",
              "  'datatype': 'TMAX',\n",
              "  'station': 'GHCND:USW00014732',\n",
              "  'attributes': ',,W,2400',\n",
              "  'value': 17.2},\n",
              " {'date': '2018-10-19T00:00:00',\n",
              "  'datatype': 'TMIN',\n",
              "  'station': 'GHCND:USW00014732',\n",
              "  'attributes': ',,W,2400',\n",
              "  'value': 7.2},\n",
              " {'date': '2018-10-20T00:00:00',\n",
              "  'datatype': 'TAVG',\n",
              "  'station': 'GHCND:USW00014732',\n",
              "  'attributes': 'H,,S,',\n",
              "  'value': 15.0},\n",
              " {'date': '2018-10-20T00:00:00',\n",
              "  'datatype': 'TMAX',\n",
              "  'station': 'GHCND:USW00014732',\n",
              "  'attributes': ',,W,2400',\n",
              "  'value': 18.3},\n",
              " {'date': '2018-10-20T00:00:00',\n",
              "  'datatype': 'TMIN',\n",
              "  'station': 'GHCND:USW00014732',\n",
              "  'attributes': ',,W,2400',\n",
              "  'value': 12.2},\n",
              " {'date': '2018-10-21T00:00:00',\n",
              "  'datatype': 'TAVG',\n",
              "  'station': 'GHCND:USW00014732',\n",
              "  'attributes': 'H,,S,',\n",
              "  'value': 10.7},\n",
              " {'date': '2018-10-21T00:00:00',\n",
              "  'datatype': 'TMAX',\n",
              "  'station': 'GHCND:USW00014732',\n",
              "  'attributes': ',,W,2400',\n",
              "  'value': 12.2},\n",
              " {'date': '2018-10-21T00:00:00',\n",
              "  'datatype': 'TMIN',\n",
              "  'station': 'GHCND:USW00014732',\n",
              "  'attributes': ',,W,2400',\n",
              "  'value': 6.1},\n",
              " {'date': '2018-10-22T00:00:00',\n",
              "  'datatype': 'TAVG',\n",
              "  'station': 'GHCND:USW00014732',\n",
              "  'attributes': 'H,,S,',\n",
              "  'value': 8.3},\n",
              " {'date': '2018-10-22T00:00:00',\n",
              "  'datatype': 'TMAX',\n",
              "  'station': 'GHCND:USW00014732',\n",
              "  'attributes': ',,W,2400',\n",
              "  'value': 11.1},\n",
              " {'date': '2018-10-22T00:00:00',\n",
              "  'datatype': 'TMIN',\n",
              "  'station': 'GHCND:USW00014732',\n",
              "  'attributes': ',,W,2400',\n",
              "  'value': 5.6},\n",
              " {'date': '2018-10-23T00:00:00',\n",
              "  'datatype': 'TAVG',\n",
              "  'station': 'GHCND:USW00014732',\n",
              "  'attributes': 'H,,S,',\n",
              "  'value': 12.6},\n",
              " {'date': '2018-10-23T00:00:00',\n",
              "  'datatype': 'TMAX',\n",
              "  'station': 'GHCND:USW00014732',\n",
              "  'attributes': ',,W,2400',\n",
              "  'value': 19.4},\n",
              " {'date': '2018-10-23T00:00:00',\n",
              "  'datatype': 'TMIN',\n",
              "  'station': 'GHCND:USW00014732',\n",
              "  'attributes': ',,W,2400',\n",
              "  'value': 8.3},\n",
              " {'date': '2018-10-24T00:00:00',\n",
              "  'datatype': 'TAVG',\n",
              "  'station': 'GHCND:USW00014732',\n",
              "  'attributes': 'H,,S,',\n",
              "  'value': 11.0},\n",
              " {'date': '2018-10-24T00:00:00',\n",
              "  'datatype': 'TMAX',\n",
              "  'station': 'GHCND:USW00014732',\n",
              "  'attributes': ',,W,2400',\n",
              "  'value': 13.3},\n",
              " {'date': '2018-10-24T00:00:00',\n",
              "  'datatype': 'TMIN',\n",
              "  'station': 'GHCND:USW00014732',\n",
              "  'attributes': ',,W,2400',\n",
              "  'value': 7.8},\n",
              " {'date': '2018-10-25T00:00:00',\n",
              "  'datatype': 'TAVG',\n",
              "  'station': 'GHCND:USW00014732',\n",
              "  'attributes': 'H,,S,',\n",
              "  'value': 8.8},\n",
              " {'date': '2018-10-25T00:00:00',\n",
              "  'datatype': 'TMAX',\n",
              "  'station': 'GHCND:USW00014732',\n",
              "  'attributes': ',,W,2400',\n",
              "  'value': 11.1},\n",
              " {'date': '2018-10-25T00:00:00',\n",
              "  'datatype': 'TMIN',\n",
              "  'station': 'GHCND:USW00014732',\n",
              "  'attributes': ',,W,2400',\n",
              "  'value': 6.1},\n",
              " {'date': '2018-10-26T00:00:00',\n",
              "  'datatype': 'TAVG',\n",
              "  'station': 'GHCND:USW00014732',\n",
              "  'attributes': 'H,,S,',\n",
              "  'value': 7.3},\n",
              " {'date': '2018-10-26T00:00:00',\n",
              "  'datatype': 'TMAX',\n",
              "  'station': 'GHCND:USW00014732',\n",
              "  'attributes': ',,W,2400',\n",
              "  'value': 10.0},\n",
              " {'date': '2018-10-26T00:00:00',\n",
              "  'datatype': 'TMIN',\n",
              "  'station': 'GHCND:USW00014732',\n",
              "  'attributes': ',,W,2400',\n",
              "  'value': 5.6},\n",
              " {'date': '2018-10-27T00:00:00',\n",
              "  'datatype': 'TAVG',\n",
              "  'station': 'GHCND:USW00014732',\n",
              "  'attributes': 'H,,S,',\n",
              "  'value': 9.4},\n",
              " {'date': '2018-10-27T00:00:00',\n",
              "  'datatype': 'TMAX',\n",
              "  'station': 'GHCND:USW00014732',\n",
              "  'attributes': ',,W,2400',\n",
              "  'value': 11.7},\n",
              " {'date': '2018-10-27T00:00:00',\n",
              "  'datatype': 'TMIN',\n",
              "  'station': 'GHCND:USW00014732',\n",
              "  'attributes': ',,W,2400',\n",
              "  'value': 7.2},\n",
              " {'date': '2018-10-28T00:00:00',\n",
              "  'datatype': 'TAVG',\n",
              "  'station': 'GHCND:USW00014732',\n",
              "  'attributes': 'H,,S,',\n",
              "  'value': 10.2},\n",
              " {'date': '2018-10-28T00:00:00',\n",
              "  'datatype': 'TMAX',\n",
              "  'station': 'GHCND:USW00014732',\n",
              "  'attributes': ',,W,2400',\n",
              "  'value': 12.2},\n",
              " {'date': '2018-10-28T00:00:00',\n",
              "  'datatype': 'TMIN',\n",
              "  'station': 'GHCND:USW00014732',\n",
              "  'attributes': ',,W,2400',\n",
              "  'value': 8.3},\n",
              " {'date': '2018-10-29T00:00:00',\n",
              "  'datatype': 'TAVG',\n",
              "  'station': 'GHCND:USW00014732',\n",
              "  'attributes': 'H,,S,',\n",
              "  'value': 11.8},\n",
              " {'date': '2018-10-29T00:00:00',\n",
              "  'datatype': 'TMAX',\n",
              "  'station': 'GHCND:USW00014732',\n",
              "  'attributes': ',,W,2400',\n",
              "  'value': 14.4},\n",
              " {'date': '2018-10-29T00:00:00',\n",
              "  'datatype': 'TMIN',\n",
              "  'station': 'GHCND:USW00014732',\n",
              "  'attributes': ',,W,2400',\n",
              "  'value': 9.4},\n",
              " {'date': '2018-10-30T00:00:00',\n",
              "  'datatype': 'TAVG',\n",
              "  'station': 'GHCND:USW00014732',\n",
              "  'attributes': 'H,,S,',\n",
              "  'value': 10.2},\n",
              " {'date': '2018-10-30T00:00:00',\n",
              "  'datatype': 'TMAX',\n",
              "  'station': 'GHCND:USW00014732',\n",
              "  'attributes': ',,W,2400',\n",
              "  'value': 13.9},\n",
              " {'date': '2018-10-30T00:00:00',\n",
              "  'datatype': 'TMIN',\n",
              "  'station': 'GHCND:USW00014732',\n",
              "  'attributes': ',,W,2400',\n",
              "  'value': 7.2},\n",
              " {'date': '2018-10-31T00:00:00',\n",
              "  'datatype': 'TAVG',\n",
              "  'station': 'GHCND:USW00014732',\n",
              "  'attributes': 'H,,S,',\n",
              "  'value': 12.6},\n",
              " {'date': '2018-10-31T00:00:00',\n",
              "  'datatype': 'TMAX',\n",
              "  'station': 'GHCND:USW00014732',\n",
              "  'attributes': ',,W,2400',\n",
              "  'value': 17.8},\n",
              " {'date': '2018-10-31T00:00:00',\n",
              "  'datatype': 'TMIN',\n",
              "  'station': 'GHCND:USW00014732',\n",
              "  'attributes': ',,W,2400',\n",
              "  'value': 7.2}]"
            ]
          },
          "metadata": {},
          "execution_count": 148
        }
      ]
    },
    {
      "cell_type": "code",
      "source": [
        "[(data['id'], data['name']) for data in response.json()['results']]"
      ],
      "metadata": {
        "colab": {
          "base_uri": "https://localhost:8080/",
          "height": 0
        },
        "id": "BZknYJqxM_VQ",
        "outputId": "693d07ef-4462-466e-9bc9-8313f892dd74"
      },
      "execution_count": 126,
      "outputs": [
        {
          "output_type": "execute_result",
          "data": {
            "text/plain": [
              "[('GHCND', 'Daily Summaries'),\n",
              " ('GSOM', 'Global Summary of the Month'),\n",
              " ('GSOY', 'Global Summary of the Year'),\n",
              " ('NEXRAD2', 'Weather Radar (Level II)'),\n",
              " ('NEXRAD3', 'Weather Radar (Level III)'),\n",
              " ('NORMAL_ANN', 'Normals Annual/Seasonal'),\n",
              " ('NORMAL_DLY', 'Normals Daily'),\n",
              " ('NORMAL_HLY', 'Normals Hourly'),\n",
              " ('NORMAL_MLY', 'Normals Monthly'),\n",
              " ('PRECIP_15', 'Precipitation 15 Minute'),\n",
              " ('PRECIP_HLY', 'Precipitation Hourly')]"
            ]
          },
          "metadata": {},
          "execution_count": 126
        }
      ]
    },
    {
      "cell_type": "code",
      "source": [
        "# get data category id\n",
        "\n",
        "response = make_request(\n",
        "    'datacategories',\n",
        "    payload={\n",
        "        'datasetid': 'GHCND'\n",
        "    }\n",
        ")\n",
        "response.status_code"
      ],
      "metadata": {
        "colab": {
          "base_uri": "https://localhost:8080/",
          "height": 0
        },
        "id": "aPwxPyijQI1A",
        "outputId": "340dd034-10c0-4079-8685-7e3d4a35f028"
      },
      "execution_count": 127,
      "outputs": [
        {
          "output_type": "execute_result",
          "data": {
            "text/plain": [
              "200"
            ]
          },
          "metadata": {},
          "execution_count": 127
        }
      ]
    },
    {
      "cell_type": "code",
      "source": [
        "response.json()['results']\n"
      ],
      "metadata": {
        "colab": {
          "base_uri": "https://localhost:8080/",
          "height": 0
        },
        "id": "-_kVqeqMTThI",
        "outputId": "6bf267ec-d483-4606-ee65-9462c7165fde"
      },
      "execution_count": 128,
      "outputs": [
        {
          "output_type": "execute_result",
          "data": {
            "text/plain": [
              "[{'name': 'Evaporation', 'id': 'EVAP'},\n",
              " {'name': 'Land', 'id': 'LAND'},\n",
              " {'name': 'Precipitation', 'id': 'PRCP'},\n",
              " {'name': 'Sky cover & clouds', 'id': 'SKY'},\n",
              " {'name': 'Sunshine', 'id': 'SUN'},\n",
              " {'name': 'Air Temperature', 'id': 'TEMP'},\n",
              " {'name': 'Water', 'id': 'WATER'},\n",
              " {'name': 'Wind', 'id': 'WIND'},\n",
              " {'name': 'Weather Type', 'id': 'WXTYPE'}]"
            ]
          },
          "metadata": {},
          "execution_count": 128
        }
      ]
    },
    {
      "cell_type": "code",
      "source": [
        "# get data type id\n",
        "response = make_request(\n",
        "    'datatypes',\n",
        "    payload={\n",
        "        'datacategoryid' : 'TEMP',\n",
        "        'limit' : 100,\n",
        "    }\n",
        ")\n",
        "response.status_code"
      ],
      "metadata": {
        "colab": {
          "base_uri": "https://localhost:8080/",
          "height": 0
        },
        "id": "aMvkjYv7U4xn",
        "outputId": "d1285106-4348-44c5-8363-128226e480a0"
      },
      "execution_count": 129,
      "outputs": [
        {
          "output_type": "execute_result",
          "data": {
            "text/plain": [
              "200"
            ]
          },
          "metadata": {},
          "execution_count": 129
        }
      ]
    },
    {
      "cell_type": "code",
      "source": [
        "[(datatype['id'], datatype['name']) for datatype in response.json()['results']][-5:] # look at the last 5"
      ],
      "metadata": {
        "colab": {
          "base_uri": "https://localhost:8080/",
          "height": 0
        },
        "id": "rYyn4RljXCV4",
        "outputId": "7dda81f3-30ff-4c8d-a034-9865c2b41379"
      },
      "execution_count": 130,
      "outputs": [
        {
          "output_type": "execute_result",
          "data": {
            "text/plain": [
              "[('MNTM', 'Monthly mean temperature'),\n",
              " ('TAVG', 'Average Temperature.'),\n",
              " ('TMAX', 'Maximum temperature'),\n",
              " ('TMIN', 'Minimum temperature'),\n",
              " ('TOBS', 'Temperature at the time of observation')]"
            ]
          },
          "metadata": {},
          "execution_count": 130
        }
      ]
    },
    {
      "cell_type": "markdown",
      "source": [
        "#Determine which Location Category we want\n",
        "Now that we know which datatypes we will be collecting, we need to find the location to use. First, we need to figure out the location category. This is obtained from the\n",
        "locationcategories endpoint by passing the datasetid :"
      ],
      "metadata": {
        "id": "2j4DOnOLdSUw"
      }
    },
    {
      "cell_type": "code",
      "source": [
        "# get location category id\n",
        "response = make_request(\n",
        "    'locationcategories',\n",
        "    {\n",
        "        'datasetid' : 'GHCND'\n",
        "    }\n",
        ")\n",
        "response.status_code"
      ],
      "metadata": {
        "colab": {
          "base_uri": "https://localhost:8080/",
          "height": 0
        },
        "id": "4suDXjBvXtKB",
        "outputId": "92f50d05-059a-41c0-e68f-1f45f4d08cd6"
      },
      "execution_count": 131,
      "outputs": [
        {
          "output_type": "execute_result",
          "data": {
            "text/plain": [
              "200"
            ]
          },
          "metadata": {},
          "execution_count": 131
        }
      ]
    },
    {
      "cell_type": "code",
      "source": [
        "import pprint\n",
        "pprint.pprint(response.json())\n"
      ],
      "metadata": {
        "colab": {
          "base_uri": "https://localhost:8080/",
          "height": 0
        },
        "id": "nFkPhbcsYU7g",
        "outputId": "4a3787ab-b0a1-48ee-bd0c-6844a2d2ac8f"
      },
      "execution_count": 132,
      "outputs": [
        {
          "output_type": "stream",
          "name": "stdout",
          "text": [
            "{'metadata': {'resultset': {'count': 12, 'limit': 25, 'offset': 1}},\n",
            " 'results': [{'id': 'CITY', 'name': 'City'},\n",
            "             {'id': 'CLIM_DIV', 'name': 'Climate Division'},\n",
            "             {'id': 'CLIM_REG', 'name': 'Climate Region'},\n",
            "             {'id': 'CNTRY', 'name': 'Country'},\n",
            "             {'id': 'CNTY', 'name': 'County'},\n",
            "             {'id': 'HYD_ACC', 'name': 'Hydrologic Accounting Unit'},\n",
            "             {'id': 'HYD_CAT', 'name': 'Hydrologic Cataloging Unit'},\n",
            "             {'id': 'HYD_REG', 'name': 'Hydrologic Region'},\n",
            "             {'id': 'HYD_SUB', 'name': 'Hydrologic Subregion'},\n",
            "             {'id': 'ST', 'name': 'State'},\n",
            "             {'id': 'US_TERR', 'name': 'US Territory'},\n",
            "             {'id': 'ZIP', 'name': 'Zip Code'}]}\n"
          ]
        }
      ]
    },
    {
      "cell_type": "markdown",
      "source": [
        "#Get NYC Location ID\n",
        "In order to find the location ID for New York, we need to search through all the cities available. Since we can ask the API to return the cities sorted, we can use binary search\n",
        "to find New York quickly without having to make many requests or request lots of data at once. The following function makes the first request to see how big the list of cities\n",
        "is and looks at the first value. From there it decides if it needs to move towards the beginning or end of the list by comparing the city we are looking for to others\n",
        "alphabetically. Each time it makes a request it can rule out half of the remaining data to search."
      ],
      "metadata": {
        "id": "V7BzE_4eZS9o"
      }
    },
    {
      "cell_type": "code",
      "source": [
        "def get_item(name, what, endpoint, start=1, end=None):\n",
        "\n",
        "    # find the midpoint which we use to cut the data in half each time\n",
        "    mid = (start + (end if end else 1)) // 2\n",
        "\n",
        "    # lowercase the name so this is not case-sensitive\n",
        "    name = name.lower()\n",
        "\n",
        " # define the payload we will send with each request\n",
        "    payload = {\n",
        "        'datasetid' : 'GHCND',\n",
        "        'sortfield' : 'name',\n",
        "        'offset' : mid, # we will change the offset each time\n",
        "        'limit' : 1 # we only want one value back\n",
        "    }\n",
        "\n",
        "    # make our request adding any additional filter parameters from `what`\n",
        "    response = make_request(endpoint, {**payload, **what})\n",
        "\n",
        "    if response.ok:\n",
        "        # if response is ok, grab the end index from the response metadata the first time through\n",
        "        end = end if end else response.json()['metadata']['resultset']['count']\n",
        "\n",
        "        # grab the lowercase version of the current name\n",
        "        current_name = response.json()['results'][0]['name'].lower()\n",
        "\n",
        "        # if what we are searching for is in the current name, we have found our item\n",
        "        if name in current_name:\n",
        "            return response.json()['results'][0] # return the found item\n",
        "        else:\n",
        "            if start >= end:\n",
        "                # if our start index is greater than or equal to our end, we couldn't find it\n",
        "                return {}\n",
        "            elif name < current_name:\n",
        "                # our name comes before the current name in the alphabet, so we search further to the left\n",
        "                return get_item(name, what, endpoint, start, mid - 1)\n",
        "            elif name > current_name:\n",
        "                # our name comes after the current name in the alphabet, so we search further to the right\n",
        "                return get_item(name, what, endpoint, mid + 1, end)\n",
        "    else:\n",
        "        # response wasn't ok, use code to determine why\n",
        "        print(f'Response not OK, status: {response.status_code}')\n",
        "\n",
        "def get_location(name):\n",
        "    return get_item(name, {'locationcategoryid' : 'CITY'}, 'locations')"
      ],
      "metadata": {
        "id": "_1CQfTArZVyI"
      },
      "execution_count": 147,
      "outputs": []
    },
    {
      "cell_type": "markdown",
      "source": [
        "When we use binary search to find New York, we find it in just 8 requests despite it being close to the middle of 1,983 entries:"
      ],
      "metadata": {
        "id": "bYnak2C1dgeA"
      }
    },
    {
      "cell_type": "code",
      "source": [
        "# get NYC id\n",
        "nyc = get_location('New York')\n",
        "nyc"
      ],
      "metadata": {
        "id": "EJrmB7bAbRMQ",
        "colab": {
          "base_uri": "https://localhost:8080/",
          "height": 0
        },
        "outputId": "f2a2a9df-e7e7-4f89-dcfa-db049b6a1869"
      },
      "execution_count": 146,
      "outputs": [
        {
          "output_type": "execute_result",
          "data": {
            "text/plain": [
              "{'mindate': '1869-01-01',\n",
              " 'maxdate': '2024-03-11',\n",
              " 'name': 'New York, NY US',\n",
              " 'datacoverage': 1,\n",
              " 'id': 'CITY:US360019'}"
            ]
          },
          "metadata": {},
          "execution_count": 146
        }
      ]
    },
    {
      "cell_type": "markdown",
      "source": [
        "#Get the station ID for Central Park\n",
        "The most granular data is found at the station level:"
      ],
      "metadata": {
        "id": "XUW8iYmXddr4"
      }
    },
    {
      "cell_type": "code",
      "source": [
        "central_park = get_item('NY City Central Park', {'locationid' : nyc['id']}, 'stations')\n",
        "central_park\n"
      ],
      "metadata": {
        "colab": {
          "base_uri": "https://localhost:8080/",
          "height": 0
        },
        "id": "kFFX7ofHcPN4",
        "outputId": "9b984647-7051-4e20-ddef-67976169c0d4"
      },
      "execution_count": 135,
      "outputs": [
        {
          "output_type": "execute_result",
          "data": {
            "text/plain": [
              "{'elevation': 42.7,\n",
              " 'mindate': '1869-01-01',\n",
              " 'maxdate': '2024-03-10',\n",
              " 'latitude': 40.77898,\n",
              " 'name': 'NY CITY CENTRAL PARK, NY US',\n",
              " 'datacoverage': 1,\n",
              " 'id': 'GHCND:USW00094728',\n",
              " 'elevationUnit': 'METERS',\n",
              " 'longitude': -73.96925}"
            ]
          },
          "metadata": {},
          "execution_count": 135
        }
      ]
    },
    {
      "cell_type": "markdown",
      "source": [
        "#Request the temperature data\n",
        "Finally, we have everything we need to make our request for the New York temperature data. For this we use the data endpoint and provide all the parameters we picked up\n",
        "throughout our exploration of the API:"
      ],
      "metadata": {
        "id": "GH5rZjcQdjgJ"
      }
    },
    {
      "cell_type": "code",
      "source": [
        "# get NYC daily summaries data\n",
        "response = make_request(\n",
        "    'data',\n",
        "    {\n",
        "        'datasetid' : 'GHCND',\n",
        "        'stationid' : central_park['id'],\n",
        "        'locationid' : nyc['id'],\n",
        "        'startdate' : '2018-10-01',\n",
        "        'enddate' : '2018-10-31',\n",
        "        'datatypeid' : ['TMIN', 'TMAX', 'TOBS'], # temperature at time of observation, min, and max\n",
        "        'units' : 'metric',\n",
        "        'limit' : 1000\n",
        "    }\n",
        ")\n",
        "response.status_code"
      ],
      "metadata": {
        "colab": {
          "base_uri": "https://localhost:8080/",
          "height": 0
        },
        "id": "aPHE2tmycSzn",
        "outputId": "ea689e92-1e03-4c14-97f6-282651323946"
      },
      "execution_count": 136,
      "outputs": [
        {
          "output_type": "execute_result",
          "data": {
            "text/plain": [
              "200"
            ]
          },
          "metadata": {},
          "execution_count": 136
        }
      ]
    },
    {
      "cell_type": "markdown",
      "source": [
        "#Create a DataFrame\n",
        "The Central Park station only has the daily minimum and maximum temperatures."
      ],
      "metadata": {
        "id": "HpzpUL_WeAXp"
      }
    },
    {
      "cell_type": "code",
      "source": [
        "import pandas as pd\n",
        "\n",
        "df = pd.DataFrame(response.json()['results'])\n",
        "df.head()"
      ],
      "metadata": {
        "colab": {
          "base_uri": "https://localhost:8080/",
          "height": 206
        },
        "id": "q76Bc8qKcf2p",
        "outputId": "8536e991-0ef8-4e2a-c248-2b48237c1b7b"
      },
      "execution_count": 137,
      "outputs": [
        {
          "output_type": "execute_result",
          "data": {
            "text/plain": [
              "                  date datatype            station attributes  value\n",
              "0  2018-10-01T00:00:00     TMAX  GHCND:USW00094728   ,,W,2400   24.4\n",
              "1  2018-10-01T00:00:00     TMIN  GHCND:USW00094728   ,,W,2400   17.2\n",
              "2  2018-10-02T00:00:00     TMAX  GHCND:USW00094728   ,,W,2400   25.0\n",
              "3  2018-10-02T00:00:00     TMIN  GHCND:USW00094728   ,,W,2400   18.3\n",
              "4  2018-10-03T00:00:00     TMAX  GHCND:USW00094728   ,,W,2400   23.3"
            ],
            "text/html": [
              "\n",
              "  <div id=\"df-4e4a98ac-3ab6-4613-b66d-81ff49cd2154\" class=\"colab-df-container\">\n",
              "    <div>\n",
              "<style scoped>\n",
              "    .dataframe tbody tr th:only-of-type {\n",
              "        vertical-align: middle;\n",
              "    }\n",
              "\n",
              "    .dataframe tbody tr th {\n",
              "        vertical-align: top;\n",
              "    }\n",
              "\n",
              "    .dataframe thead th {\n",
              "        text-align: right;\n",
              "    }\n",
              "</style>\n",
              "<table border=\"1\" class=\"dataframe\">\n",
              "  <thead>\n",
              "    <tr style=\"text-align: right;\">\n",
              "      <th></th>\n",
              "      <th>date</th>\n",
              "      <th>datatype</th>\n",
              "      <th>station</th>\n",
              "      <th>attributes</th>\n",
              "      <th>value</th>\n",
              "    </tr>\n",
              "  </thead>\n",
              "  <tbody>\n",
              "    <tr>\n",
              "      <th>0</th>\n",
              "      <td>2018-10-01T00:00:00</td>\n",
              "      <td>TMAX</td>\n",
              "      <td>GHCND:USW00094728</td>\n",
              "      <td>,,W,2400</td>\n",
              "      <td>24.4</td>\n",
              "    </tr>\n",
              "    <tr>\n",
              "      <th>1</th>\n",
              "      <td>2018-10-01T00:00:00</td>\n",
              "      <td>TMIN</td>\n",
              "      <td>GHCND:USW00094728</td>\n",
              "      <td>,,W,2400</td>\n",
              "      <td>17.2</td>\n",
              "    </tr>\n",
              "    <tr>\n",
              "      <th>2</th>\n",
              "      <td>2018-10-02T00:00:00</td>\n",
              "      <td>TMAX</td>\n",
              "      <td>GHCND:USW00094728</td>\n",
              "      <td>,,W,2400</td>\n",
              "      <td>25.0</td>\n",
              "    </tr>\n",
              "    <tr>\n",
              "      <th>3</th>\n",
              "      <td>2018-10-02T00:00:00</td>\n",
              "      <td>TMIN</td>\n",
              "      <td>GHCND:USW00094728</td>\n",
              "      <td>,,W,2400</td>\n",
              "      <td>18.3</td>\n",
              "    </tr>\n",
              "    <tr>\n",
              "      <th>4</th>\n",
              "      <td>2018-10-03T00:00:00</td>\n",
              "      <td>TMAX</td>\n",
              "      <td>GHCND:USW00094728</td>\n",
              "      <td>,,W,2400</td>\n",
              "      <td>23.3</td>\n",
              "    </tr>\n",
              "  </tbody>\n",
              "</table>\n",
              "</div>\n",
              "    <div class=\"colab-df-buttons\">\n",
              "\n",
              "  <div class=\"colab-df-container\">\n",
              "    <button class=\"colab-df-convert\" onclick=\"convertToInteractive('df-4e4a98ac-3ab6-4613-b66d-81ff49cd2154')\"\n",
              "            title=\"Convert this dataframe to an interactive table.\"\n",
              "            style=\"display:none;\">\n",
              "\n",
              "  <svg xmlns=\"http://www.w3.org/2000/svg\" height=\"24px\" viewBox=\"0 -960 960 960\">\n",
              "    <path d=\"M120-120v-720h720v720H120Zm60-500h600v-160H180v160Zm220 220h160v-160H400v160Zm0 220h160v-160H400v160ZM180-400h160v-160H180v160Zm440 0h160v-160H620v160ZM180-180h160v-160H180v160Zm440 0h160v-160H620v160Z\"/>\n",
              "  </svg>\n",
              "    </button>\n",
              "\n",
              "  <style>\n",
              "    .colab-df-container {\n",
              "      display:flex;\n",
              "      gap: 12px;\n",
              "    }\n",
              "\n",
              "    .colab-df-convert {\n",
              "      background-color: #E8F0FE;\n",
              "      border: none;\n",
              "      border-radius: 50%;\n",
              "      cursor: pointer;\n",
              "      display: none;\n",
              "      fill: #1967D2;\n",
              "      height: 32px;\n",
              "      padding: 0 0 0 0;\n",
              "      width: 32px;\n",
              "    }\n",
              "\n",
              "    .colab-df-convert:hover {\n",
              "      background-color: #E2EBFA;\n",
              "      box-shadow: 0px 1px 2px rgba(60, 64, 67, 0.3), 0px 1px 3px 1px rgba(60, 64, 67, 0.15);\n",
              "      fill: #174EA6;\n",
              "    }\n",
              "\n",
              "    .colab-df-buttons div {\n",
              "      margin-bottom: 4px;\n",
              "    }\n",
              "\n",
              "    [theme=dark] .colab-df-convert {\n",
              "      background-color: #3B4455;\n",
              "      fill: #D2E3FC;\n",
              "    }\n",
              "\n",
              "    [theme=dark] .colab-df-convert:hover {\n",
              "      background-color: #434B5C;\n",
              "      box-shadow: 0px 1px 3px 1px rgba(0, 0, 0, 0.15);\n",
              "      filter: drop-shadow(0px 1px 2px rgba(0, 0, 0, 0.3));\n",
              "      fill: #FFFFFF;\n",
              "    }\n",
              "  </style>\n",
              "\n",
              "    <script>\n",
              "      const buttonEl =\n",
              "        document.querySelector('#df-4e4a98ac-3ab6-4613-b66d-81ff49cd2154 button.colab-df-convert');\n",
              "      buttonEl.style.display =\n",
              "        google.colab.kernel.accessAllowed ? 'block' : 'none';\n",
              "\n",
              "      async function convertToInteractive(key) {\n",
              "        const element = document.querySelector('#df-4e4a98ac-3ab6-4613-b66d-81ff49cd2154');\n",
              "        const dataTable =\n",
              "          await google.colab.kernel.invokeFunction('convertToInteractive',\n",
              "                                                    [key], {});\n",
              "        if (!dataTable) return;\n",
              "\n",
              "        const docLinkHtml = 'Like what you see? Visit the ' +\n",
              "          '<a target=\"_blank\" href=https://colab.research.google.com/notebooks/data_table.ipynb>data table notebook</a>'\n",
              "          + ' to learn more about interactive tables.';\n",
              "        element.innerHTML = '';\n",
              "        dataTable['output_type'] = 'display_data';\n",
              "        await google.colab.output.renderOutput(dataTable, element);\n",
              "        const docLink = document.createElement('div');\n",
              "        docLink.innerHTML = docLinkHtml;\n",
              "        element.appendChild(docLink);\n",
              "      }\n",
              "    </script>\n",
              "  </div>\n",
              "\n",
              "\n",
              "<div id=\"df-f8e3efe5-c068-4df8-916c-be8307041d12\">\n",
              "  <button class=\"colab-df-quickchart\" onclick=\"quickchart('df-f8e3efe5-c068-4df8-916c-be8307041d12')\"\n",
              "            title=\"Suggest charts\"\n",
              "            style=\"display:none;\">\n",
              "\n",
              "<svg xmlns=\"http://www.w3.org/2000/svg\" height=\"24px\"viewBox=\"0 0 24 24\"\n",
              "     width=\"24px\">\n",
              "    <g>\n",
              "        <path d=\"M19 3H5c-1.1 0-2 .9-2 2v14c0 1.1.9 2 2 2h14c1.1 0 2-.9 2-2V5c0-1.1-.9-2-2-2zM9 17H7v-7h2v7zm4 0h-2V7h2v10zm4 0h-2v-4h2v4z\"/>\n",
              "    </g>\n",
              "</svg>\n",
              "  </button>\n",
              "\n",
              "<style>\n",
              "  .colab-df-quickchart {\n",
              "      --bg-color: #E8F0FE;\n",
              "      --fill-color: #1967D2;\n",
              "      --hover-bg-color: #E2EBFA;\n",
              "      --hover-fill-color: #174EA6;\n",
              "      --disabled-fill-color: #AAA;\n",
              "      --disabled-bg-color: #DDD;\n",
              "  }\n",
              "\n",
              "  [theme=dark] .colab-df-quickchart {\n",
              "      --bg-color: #3B4455;\n",
              "      --fill-color: #D2E3FC;\n",
              "      --hover-bg-color: #434B5C;\n",
              "      --hover-fill-color: #FFFFFF;\n",
              "      --disabled-bg-color: #3B4455;\n",
              "      --disabled-fill-color: #666;\n",
              "  }\n",
              "\n",
              "  .colab-df-quickchart {\n",
              "    background-color: var(--bg-color);\n",
              "    border: none;\n",
              "    border-radius: 50%;\n",
              "    cursor: pointer;\n",
              "    display: none;\n",
              "    fill: var(--fill-color);\n",
              "    height: 32px;\n",
              "    padding: 0;\n",
              "    width: 32px;\n",
              "  }\n",
              "\n",
              "  .colab-df-quickchart:hover {\n",
              "    background-color: var(--hover-bg-color);\n",
              "    box-shadow: 0 1px 2px rgba(60, 64, 67, 0.3), 0 1px 3px 1px rgba(60, 64, 67, 0.15);\n",
              "    fill: var(--button-hover-fill-color);\n",
              "  }\n",
              "\n",
              "  .colab-df-quickchart-complete:disabled,\n",
              "  .colab-df-quickchart-complete:disabled:hover {\n",
              "    background-color: var(--disabled-bg-color);\n",
              "    fill: var(--disabled-fill-color);\n",
              "    box-shadow: none;\n",
              "  }\n",
              "\n",
              "  .colab-df-spinner {\n",
              "    border: 2px solid var(--fill-color);\n",
              "    border-color: transparent;\n",
              "    border-bottom-color: var(--fill-color);\n",
              "    animation:\n",
              "      spin 1s steps(1) infinite;\n",
              "  }\n",
              "\n",
              "  @keyframes spin {\n",
              "    0% {\n",
              "      border-color: transparent;\n",
              "      border-bottom-color: var(--fill-color);\n",
              "      border-left-color: var(--fill-color);\n",
              "    }\n",
              "    20% {\n",
              "      border-color: transparent;\n",
              "      border-left-color: var(--fill-color);\n",
              "      border-top-color: var(--fill-color);\n",
              "    }\n",
              "    30% {\n",
              "      border-color: transparent;\n",
              "      border-left-color: var(--fill-color);\n",
              "      border-top-color: var(--fill-color);\n",
              "      border-right-color: var(--fill-color);\n",
              "    }\n",
              "    40% {\n",
              "      border-color: transparent;\n",
              "      border-right-color: var(--fill-color);\n",
              "      border-top-color: var(--fill-color);\n",
              "    }\n",
              "    60% {\n",
              "      border-color: transparent;\n",
              "      border-right-color: var(--fill-color);\n",
              "    }\n",
              "    80% {\n",
              "      border-color: transparent;\n",
              "      border-right-color: var(--fill-color);\n",
              "      border-bottom-color: var(--fill-color);\n",
              "    }\n",
              "    90% {\n",
              "      border-color: transparent;\n",
              "      border-bottom-color: var(--fill-color);\n",
              "    }\n",
              "  }\n",
              "</style>\n",
              "\n",
              "  <script>\n",
              "    async function quickchart(key) {\n",
              "      const quickchartButtonEl =\n",
              "        document.querySelector('#' + key + ' button');\n",
              "      quickchartButtonEl.disabled = true;  // To prevent multiple clicks.\n",
              "      quickchartButtonEl.classList.add('colab-df-spinner');\n",
              "      try {\n",
              "        const charts = await google.colab.kernel.invokeFunction(\n",
              "            'suggestCharts', [key], {});\n",
              "      } catch (error) {\n",
              "        console.error('Error during call to suggestCharts:', error);\n",
              "      }\n",
              "      quickchartButtonEl.classList.remove('colab-df-spinner');\n",
              "      quickchartButtonEl.classList.add('colab-df-quickchart-complete');\n",
              "    }\n",
              "    (() => {\n",
              "      let quickchartButtonEl =\n",
              "        document.querySelector('#df-f8e3efe5-c068-4df8-916c-be8307041d12 button');\n",
              "      quickchartButtonEl.style.display =\n",
              "        google.colab.kernel.accessAllowed ? 'block' : 'none';\n",
              "    })();\n",
              "  </script>\n",
              "</div>\n",
              "    </div>\n",
              "  </div>\n"
            ],
            "application/vnd.google.colaboratory.intrinsic+json": {
              "type": "dataframe",
              "variable_name": "df",
              "summary": "{\n  \"name\": \"df\",\n  \"rows\": 62,\n  \"fields\": [\n    {\n      \"column\": \"date\",\n      \"properties\": {\n        \"dtype\": \"object\",\n        \"num_unique_values\": 31,\n        \"samples\": [\n          \"2018-10-28T00:00:00\",\n          \"2018-10-16T00:00:00\",\n          \"2018-10-24T00:00:00\"\n        ],\n        \"semantic_type\": \"\",\n        \"description\": \"\"\n      }\n    },\n    {\n      \"column\": \"datatype\",\n      \"properties\": {\n        \"dtype\": \"category\",\n        \"num_unique_values\": 2,\n        \"samples\": [\n          \"TMIN\",\n          \"TMAX\"\n        ],\n        \"semantic_type\": \"\",\n        \"description\": \"\"\n      }\n    },\n    {\n      \"column\": \"station\",\n      \"properties\": {\n        \"dtype\": \"category\",\n        \"num_unique_values\": 1,\n        \"samples\": [\n          \"GHCND:USW00094728\"\n        ],\n        \"semantic_type\": \"\",\n        \"description\": \"\"\n      }\n    },\n    {\n      \"column\": \"attributes\",\n      \"properties\": {\n        \"dtype\": \"category\",\n        \"num_unique_values\": 1,\n        \"samples\": [\n          \",,W,2400\"\n        ],\n        \"semantic_type\": \"\",\n        \"description\": \"\"\n      }\n    },\n    {\n      \"column\": \"value\",\n      \"properties\": {\n        \"dtype\": \"number\",\n        \"std\": 6.573912032246916,\n        \"min\": 3.3,\n        \"max\": 26.7,\n        \"num_unique_values\": 33,\n        \"samples\": [\n          7.2\n        ],\n        \"semantic_type\": \"\",\n        \"description\": \"\"\n      }\n    }\n  ]\n}"
            }
          },
          "metadata": {},
          "execution_count": 137
        }
      ]
    },
    {
      "cell_type": "markdown",
      "source": [
        "We didn't get TOBS because the station doesn't measure that:\n"
      ],
      "metadata": {
        "id": "mQvOzJ52egcA"
      }
    },
    {
      "cell_type": "code",
      "source": [
        "df.datatype.unique()"
      ],
      "metadata": {
        "colab": {
          "base_uri": "https://localhost:8080/",
          "height": 0
        },
        "id": "tfip9ETPcjio",
        "outputId": "fc395e36-36a1-485e-9a60-dc2051404dba"
      },
      "execution_count": 138,
      "outputs": [
        {
          "output_type": "execute_result",
          "data": {
            "text/plain": [
              "array(['TMAX', 'TMIN'], dtype=object)"
            ]
          },
          "metadata": {},
          "execution_count": 138
        }
      ]
    },
    {
      "cell_type": "markdown",
      "source": [
        "Despite showing up in the data as measuring it... Real-world data is dirty!\n"
      ],
      "metadata": {
        "id": "-5HZMNvKelRI"
      }
    },
    {
      "cell_type": "code",
      "source": [
        "if get_item(\n",
        "    'NY City Central Park', {'locationid' : nyc['id'], 'datatypeid': 'TOBS'}, 'stations'\n",
        "):\n",
        "    print('Found!')"
      ],
      "metadata": {
        "colab": {
          "base_uri": "https://localhost:8080/",
          "height": 0
        },
        "id": "B6KFhpHkckuv",
        "outputId": "555ab359-bbe4-4ff8-8031-88af0b460c75"
      },
      "execution_count": 139,
      "outputs": [
        {
          "output_type": "stream",
          "name": "stdout",
          "text": [
            "Found!\n"
          ]
        }
      ]
    },
    {
      "cell_type": "markdown",
      "source": [
        "#Using a different station\n",
        "Let's use LaGuardia airport instead. It contains TAVG (average daily temperature):"
      ],
      "metadata": {
        "id": "l4cfYPfketpa"
      }
    },
    {
      "cell_type": "code",
      "source": [
        "laguardia = get_item(\n",
        "    'LaGuardia', {'locationid' : nyc['id']}, 'stations'\n",
        ")\n",
        "laguardia\n"
      ],
      "metadata": {
        "colab": {
          "base_uri": "https://localhost:8080/",
          "height": 0
        },
        "id": "xBFUj0VWcqmP",
        "outputId": "5aa52e14-5651-4c27-844a-5efdb8d68b6a"
      },
      "execution_count": 140,
      "outputs": [
        {
          "output_type": "execute_result",
          "data": {
            "text/plain": [
              "{'elevation': 3,\n",
              " 'mindate': '1939-10-07',\n",
              " 'maxdate': '2024-03-11',\n",
              " 'latitude': 40.77945,\n",
              " 'name': 'LAGUARDIA AIRPORT, NY US',\n",
              " 'datacoverage': 1,\n",
              " 'id': 'GHCND:USW00014732',\n",
              " 'elevationUnit': 'METERS',\n",
              " 'longitude': -73.88027}"
            ]
          },
          "metadata": {},
          "execution_count": 140
        }
      ]
    },
    {
      "cell_type": "markdown",
      "source": [
        "We make our request using the LaGuardia airport station this time and ask for TAVG instead of TOBS ."
      ],
      "metadata": {
        "id": "RTCynvQPeyzY"
      }
    },
    {
      "cell_type": "code",
      "source": [
        "# get NYC daily summaries data\n",
        "response = make_request(\n",
        "    'data',\n",
        "    {\n",
        "        'datasetid' : 'GHCND',\n",
        "        'stationid' : laguardia['id'],\n",
        "        'locationid' : nyc['id'],\n",
        "        'startdate' : '2018-10-01',\n",
        "        'enddate' : '2018-10-31',\n",
        "        'datatypeid' : ['TMIN', 'TMAX', 'TAVG'], # temperature at time of observation, min, and max\n",
        "        'units' : 'metric',\n",
        "        'limit' : 1000\n",
        "    }\n",
        ")\n",
        "response.status_code"
      ],
      "metadata": {
        "colab": {
          "base_uri": "https://localhost:8080/",
          "height": 0
        },
        "id": "WsPELnetcvQn",
        "outputId": "7a06c94f-432d-4414-fd7d-06f2066b5904"
      },
      "execution_count": 141,
      "outputs": [
        {
          "output_type": "execute_result",
          "data": {
            "text/plain": [
              "200"
            ]
          },
          "metadata": {},
          "execution_count": 141
        }
      ]
    },
    {
      "cell_type": "markdown",
      "source": [
        "The request was successful, so let's make a dataframe:\n"
      ],
      "metadata": {
        "id": "ciaRDo8Ge0yw"
      }
    },
    {
      "cell_type": "code",
      "source": [
        "df = pd.DataFrame(response.json()['results'])\n",
        "df.head()\n"
      ],
      "metadata": {
        "colab": {
          "base_uri": "https://localhost:8080/",
          "height": 206
        },
        "id": "sZejIFR7c1WY",
        "outputId": "e4293678-d3d1-456b-9e5b-b6f90fb0cb95"
      },
      "execution_count": 142,
      "outputs": [
        {
          "output_type": "execute_result",
          "data": {
            "text/plain": [
              "                  date datatype            station attributes  value\n",
              "0  2018-10-01T00:00:00     TAVG  GHCND:USW00014732      H,,S,   21.2\n",
              "1  2018-10-01T00:00:00     TMAX  GHCND:USW00014732   ,,W,2400   25.6\n",
              "2  2018-10-01T00:00:00     TMIN  GHCND:USW00014732   ,,W,2400   18.3\n",
              "3  2018-10-02T00:00:00     TAVG  GHCND:USW00014732      H,,S,   22.7\n",
              "4  2018-10-02T00:00:00     TMAX  GHCND:USW00014732   ,,W,2400   26.1"
            ],
            "text/html": [
              "\n",
              "  <div id=\"df-163a583d-ba3a-483f-8180-88b343ca5edd\" class=\"colab-df-container\">\n",
              "    <div>\n",
              "<style scoped>\n",
              "    .dataframe tbody tr th:only-of-type {\n",
              "        vertical-align: middle;\n",
              "    }\n",
              "\n",
              "    .dataframe tbody tr th {\n",
              "        vertical-align: top;\n",
              "    }\n",
              "\n",
              "    .dataframe thead th {\n",
              "        text-align: right;\n",
              "    }\n",
              "</style>\n",
              "<table border=\"1\" class=\"dataframe\">\n",
              "  <thead>\n",
              "    <tr style=\"text-align: right;\">\n",
              "      <th></th>\n",
              "      <th>date</th>\n",
              "      <th>datatype</th>\n",
              "      <th>station</th>\n",
              "      <th>attributes</th>\n",
              "      <th>value</th>\n",
              "    </tr>\n",
              "  </thead>\n",
              "  <tbody>\n",
              "    <tr>\n",
              "      <th>0</th>\n",
              "      <td>2018-10-01T00:00:00</td>\n",
              "      <td>TAVG</td>\n",
              "      <td>GHCND:USW00014732</td>\n",
              "      <td>H,,S,</td>\n",
              "      <td>21.2</td>\n",
              "    </tr>\n",
              "    <tr>\n",
              "      <th>1</th>\n",
              "      <td>2018-10-01T00:00:00</td>\n",
              "      <td>TMAX</td>\n",
              "      <td>GHCND:USW00014732</td>\n",
              "      <td>,,W,2400</td>\n",
              "      <td>25.6</td>\n",
              "    </tr>\n",
              "    <tr>\n",
              "      <th>2</th>\n",
              "      <td>2018-10-01T00:00:00</td>\n",
              "      <td>TMIN</td>\n",
              "      <td>GHCND:USW00014732</td>\n",
              "      <td>,,W,2400</td>\n",
              "      <td>18.3</td>\n",
              "    </tr>\n",
              "    <tr>\n",
              "      <th>3</th>\n",
              "      <td>2018-10-02T00:00:00</td>\n",
              "      <td>TAVG</td>\n",
              "      <td>GHCND:USW00014732</td>\n",
              "      <td>H,,S,</td>\n",
              "      <td>22.7</td>\n",
              "    </tr>\n",
              "    <tr>\n",
              "      <th>4</th>\n",
              "      <td>2018-10-02T00:00:00</td>\n",
              "      <td>TMAX</td>\n",
              "      <td>GHCND:USW00014732</td>\n",
              "      <td>,,W,2400</td>\n",
              "      <td>26.1</td>\n",
              "    </tr>\n",
              "  </tbody>\n",
              "</table>\n",
              "</div>\n",
              "    <div class=\"colab-df-buttons\">\n",
              "\n",
              "  <div class=\"colab-df-container\">\n",
              "    <button class=\"colab-df-convert\" onclick=\"convertToInteractive('df-163a583d-ba3a-483f-8180-88b343ca5edd')\"\n",
              "            title=\"Convert this dataframe to an interactive table.\"\n",
              "            style=\"display:none;\">\n",
              "\n",
              "  <svg xmlns=\"http://www.w3.org/2000/svg\" height=\"24px\" viewBox=\"0 -960 960 960\">\n",
              "    <path d=\"M120-120v-720h720v720H120Zm60-500h600v-160H180v160Zm220 220h160v-160H400v160Zm0 220h160v-160H400v160ZM180-400h160v-160H180v160Zm440 0h160v-160H620v160ZM180-180h160v-160H180v160Zm440 0h160v-160H620v160Z\"/>\n",
              "  </svg>\n",
              "    </button>\n",
              "\n",
              "  <style>\n",
              "    .colab-df-container {\n",
              "      display:flex;\n",
              "      gap: 12px;\n",
              "    }\n",
              "\n",
              "    .colab-df-convert {\n",
              "      background-color: #E8F0FE;\n",
              "      border: none;\n",
              "      border-radius: 50%;\n",
              "      cursor: pointer;\n",
              "      display: none;\n",
              "      fill: #1967D2;\n",
              "      height: 32px;\n",
              "      padding: 0 0 0 0;\n",
              "      width: 32px;\n",
              "    }\n",
              "\n",
              "    .colab-df-convert:hover {\n",
              "      background-color: #E2EBFA;\n",
              "      box-shadow: 0px 1px 2px rgba(60, 64, 67, 0.3), 0px 1px 3px 1px rgba(60, 64, 67, 0.15);\n",
              "      fill: #174EA6;\n",
              "    }\n",
              "\n",
              "    .colab-df-buttons div {\n",
              "      margin-bottom: 4px;\n",
              "    }\n",
              "\n",
              "    [theme=dark] .colab-df-convert {\n",
              "      background-color: #3B4455;\n",
              "      fill: #D2E3FC;\n",
              "    }\n",
              "\n",
              "    [theme=dark] .colab-df-convert:hover {\n",
              "      background-color: #434B5C;\n",
              "      box-shadow: 0px 1px 3px 1px rgba(0, 0, 0, 0.15);\n",
              "      filter: drop-shadow(0px 1px 2px rgba(0, 0, 0, 0.3));\n",
              "      fill: #FFFFFF;\n",
              "    }\n",
              "  </style>\n",
              "\n",
              "    <script>\n",
              "      const buttonEl =\n",
              "        document.querySelector('#df-163a583d-ba3a-483f-8180-88b343ca5edd button.colab-df-convert');\n",
              "      buttonEl.style.display =\n",
              "        google.colab.kernel.accessAllowed ? 'block' : 'none';\n",
              "\n",
              "      async function convertToInteractive(key) {\n",
              "        const element = document.querySelector('#df-163a583d-ba3a-483f-8180-88b343ca5edd');\n",
              "        const dataTable =\n",
              "          await google.colab.kernel.invokeFunction('convertToInteractive',\n",
              "                                                    [key], {});\n",
              "        if (!dataTable) return;\n",
              "\n",
              "        const docLinkHtml = 'Like what you see? Visit the ' +\n",
              "          '<a target=\"_blank\" href=https://colab.research.google.com/notebooks/data_table.ipynb>data table notebook</a>'\n",
              "          + ' to learn more about interactive tables.';\n",
              "        element.innerHTML = '';\n",
              "        dataTable['output_type'] = 'display_data';\n",
              "        await google.colab.output.renderOutput(dataTable, element);\n",
              "        const docLink = document.createElement('div');\n",
              "        docLink.innerHTML = docLinkHtml;\n",
              "        element.appendChild(docLink);\n",
              "      }\n",
              "    </script>\n",
              "  </div>\n",
              "\n",
              "\n",
              "<div id=\"df-4bf4fc63-b072-4c39-a4dc-a99cb44c53f5\">\n",
              "  <button class=\"colab-df-quickchart\" onclick=\"quickchart('df-4bf4fc63-b072-4c39-a4dc-a99cb44c53f5')\"\n",
              "            title=\"Suggest charts\"\n",
              "            style=\"display:none;\">\n",
              "\n",
              "<svg xmlns=\"http://www.w3.org/2000/svg\" height=\"24px\"viewBox=\"0 0 24 24\"\n",
              "     width=\"24px\">\n",
              "    <g>\n",
              "        <path d=\"M19 3H5c-1.1 0-2 .9-2 2v14c0 1.1.9 2 2 2h14c1.1 0 2-.9 2-2V5c0-1.1-.9-2-2-2zM9 17H7v-7h2v7zm4 0h-2V7h2v10zm4 0h-2v-4h2v4z\"/>\n",
              "    </g>\n",
              "</svg>\n",
              "  </button>\n",
              "\n",
              "<style>\n",
              "  .colab-df-quickchart {\n",
              "      --bg-color: #E8F0FE;\n",
              "      --fill-color: #1967D2;\n",
              "      --hover-bg-color: #E2EBFA;\n",
              "      --hover-fill-color: #174EA6;\n",
              "      --disabled-fill-color: #AAA;\n",
              "      --disabled-bg-color: #DDD;\n",
              "  }\n",
              "\n",
              "  [theme=dark] .colab-df-quickchart {\n",
              "      --bg-color: #3B4455;\n",
              "      --fill-color: #D2E3FC;\n",
              "      --hover-bg-color: #434B5C;\n",
              "      --hover-fill-color: #FFFFFF;\n",
              "      --disabled-bg-color: #3B4455;\n",
              "      --disabled-fill-color: #666;\n",
              "  }\n",
              "\n",
              "  .colab-df-quickchart {\n",
              "    background-color: var(--bg-color);\n",
              "    border: none;\n",
              "    border-radius: 50%;\n",
              "    cursor: pointer;\n",
              "    display: none;\n",
              "    fill: var(--fill-color);\n",
              "    height: 32px;\n",
              "    padding: 0;\n",
              "    width: 32px;\n",
              "  }\n",
              "\n",
              "  .colab-df-quickchart:hover {\n",
              "    background-color: var(--hover-bg-color);\n",
              "    box-shadow: 0 1px 2px rgba(60, 64, 67, 0.3), 0 1px 3px 1px rgba(60, 64, 67, 0.15);\n",
              "    fill: var(--button-hover-fill-color);\n",
              "  }\n",
              "\n",
              "  .colab-df-quickchart-complete:disabled,\n",
              "  .colab-df-quickchart-complete:disabled:hover {\n",
              "    background-color: var(--disabled-bg-color);\n",
              "    fill: var(--disabled-fill-color);\n",
              "    box-shadow: none;\n",
              "  }\n",
              "\n",
              "  .colab-df-spinner {\n",
              "    border: 2px solid var(--fill-color);\n",
              "    border-color: transparent;\n",
              "    border-bottom-color: var(--fill-color);\n",
              "    animation:\n",
              "      spin 1s steps(1) infinite;\n",
              "  }\n",
              "\n",
              "  @keyframes spin {\n",
              "    0% {\n",
              "      border-color: transparent;\n",
              "      border-bottom-color: var(--fill-color);\n",
              "      border-left-color: var(--fill-color);\n",
              "    }\n",
              "    20% {\n",
              "      border-color: transparent;\n",
              "      border-left-color: var(--fill-color);\n",
              "      border-top-color: var(--fill-color);\n",
              "    }\n",
              "    30% {\n",
              "      border-color: transparent;\n",
              "      border-left-color: var(--fill-color);\n",
              "      border-top-color: var(--fill-color);\n",
              "      border-right-color: var(--fill-color);\n",
              "    }\n",
              "    40% {\n",
              "      border-color: transparent;\n",
              "      border-right-color: var(--fill-color);\n",
              "      border-top-color: var(--fill-color);\n",
              "    }\n",
              "    60% {\n",
              "      border-color: transparent;\n",
              "      border-right-color: var(--fill-color);\n",
              "    }\n",
              "    80% {\n",
              "      border-color: transparent;\n",
              "      border-right-color: var(--fill-color);\n",
              "      border-bottom-color: var(--fill-color);\n",
              "    }\n",
              "    90% {\n",
              "      border-color: transparent;\n",
              "      border-bottom-color: var(--fill-color);\n",
              "    }\n",
              "  }\n",
              "</style>\n",
              "\n",
              "  <script>\n",
              "    async function quickchart(key) {\n",
              "      const quickchartButtonEl =\n",
              "        document.querySelector('#' + key + ' button');\n",
              "      quickchartButtonEl.disabled = true;  // To prevent multiple clicks.\n",
              "      quickchartButtonEl.classList.add('colab-df-spinner');\n",
              "      try {\n",
              "        const charts = await google.colab.kernel.invokeFunction(\n",
              "            'suggestCharts', [key], {});\n",
              "      } catch (error) {\n",
              "        console.error('Error during call to suggestCharts:', error);\n",
              "      }\n",
              "      quickchartButtonEl.classList.remove('colab-df-spinner');\n",
              "      quickchartButtonEl.classList.add('colab-df-quickchart-complete');\n",
              "    }\n",
              "    (() => {\n",
              "      let quickchartButtonEl =\n",
              "        document.querySelector('#df-4bf4fc63-b072-4c39-a4dc-a99cb44c53f5 button');\n",
              "      quickchartButtonEl.style.display =\n",
              "        google.colab.kernel.accessAllowed ? 'block' : 'none';\n",
              "    })();\n",
              "  </script>\n",
              "</div>\n",
              "    </div>\n",
              "  </div>\n"
            ],
            "application/vnd.google.colaboratory.intrinsic+json": {
              "type": "dataframe",
              "variable_name": "df",
              "summary": "{\n  \"name\": \"df\",\n  \"rows\": 93,\n  \"fields\": [\n    {\n      \"column\": \"date\",\n      \"properties\": {\n        \"dtype\": \"object\",\n        \"num_unique_values\": 31,\n        \"samples\": [\n          \"2018-10-28T00:00:00\",\n          \"2018-10-16T00:00:00\",\n          \"2018-10-24T00:00:00\"\n        ],\n        \"semantic_type\": \"\",\n        \"description\": \"\"\n      }\n    },\n    {\n      \"column\": \"datatype\",\n      \"properties\": {\n        \"dtype\": \"category\",\n        \"num_unique_values\": 3,\n        \"samples\": [\n          \"TAVG\",\n          \"TMAX\",\n          \"TMIN\"\n        ],\n        \"semantic_type\": \"\",\n        \"description\": \"\"\n      }\n    },\n    {\n      \"column\": \"station\",\n      \"properties\": {\n        \"dtype\": \"category\",\n        \"num_unique_values\": 1,\n        \"samples\": [\n          \"GHCND:USW00014732\"\n        ],\n        \"semantic_type\": \"\",\n        \"description\": \"\"\n      }\n    },\n    {\n      \"column\": \"attributes\",\n      \"properties\": {\n        \"dtype\": \"category\",\n        \"num_unique_values\": 2,\n        \"samples\": [\n          \",,W,2400\"\n        ],\n        \"semantic_type\": \"\",\n        \"description\": \"\"\n      }\n    },\n    {\n      \"column\": \"value\",\n      \"properties\": {\n        \"dtype\": \"number\",\n        \"std\": 6.133703326950107,\n        \"min\": 5.6,\n        \"max\": 27.8,\n        \"num_unique_values\": 57,\n        \"samples\": [\n          21.2\n        ],\n        \"semantic_type\": \"\",\n        \"description\": \"\"\n      }\n    }\n  ]\n}"
            }
          },
          "metadata": {},
          "execution_count": 142
        }
      ]
    },
    {
      "cell_type": "markdown",
      "source": [
        "We should check we got what we wanted: 31 entries for TAVG, TMAX, and TMIN (1 per day):"
      ],
      "metadata": {
        "id": "myPpCJvGeQ5J"
      }
    },
    {
      "cell_type": "code",
      "source": [
        "df.datatype.value_counts()"
      ],
      "metadata": {
        "colab": {
          "base_uri": "https://localhost:8080/",
          "height": 0
        },
        "id": "gkjDqf9yc1-g",
        "outputId": "a6711b4a-6bbc-4b6f-c981-8c5aed9a6699"
      },
      "execution_count": 143,
      "outputs": [
        {
          "output_type": "execute_result",
          "data": {
            "text/plain": [
              "TAVG    31\n",
              "TMAX    31\n",
              "TMIN    31\n",
              "Name: datatype, dtype: int64"
            ]
          },
          "metadata": {},
          "execution_count": 143
        }
      ]
    },
    {
      "cell_type": "markdown",
      "source": [
        "Write the data to a CSV file for use in other notebooks."
      ],
      "metadata": {
        "id": "6sHzVWqSe5VA"
      }
    },
    {
      "cell_type": "code",
      "source": [
        "df.to_csv('nyc_temperatures.csv', index=False)"
      ],
      "metadata": {
        "id": "Hh3LE3Lnc7sP"
      },
      "execution_count": 152,
      "outputs": []
    }
  ]
}